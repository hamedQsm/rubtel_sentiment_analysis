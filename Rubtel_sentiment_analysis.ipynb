{
 "cells": [
  {
   "cell_type": "markdown",
   "metadata": {},
   "source": [
    "# 1. Reading the data"
   ]
  },
  {
   "cell_type": "code",
   "execution_count": 1,
   "metadata": {
    "collapsed": true
   },
   "outputs": [],
   "source": [
    "import pandas as pd\n",
    "import re"
   ]
  },
  {
   "cell_type": "code",
   "execution_count": 2,
   "metadata": {
    "collapsed": false
   },
   "outputs": [],
   "source": [
    "r_df = pd.read_csv('data/rebtel_reviews.csv')"
   ]
  },
  {
   "cell_type": "code",
   "execution_count": 3,
   "metadata": {
    "collapsed": true
   },
   "outputs": [],
   "source": [
    "r_df['page'] = r_df['page-href'].apply(lambda x: int(re.findall('\\d+', x)[0]))\n",
    "r_df['rate'] = r_df['stars'].apply(lambda x: int(re.findall('\\d+', x)[0]))"
   ]
  },
  {
   "cell_type": "code",
   "execution_count": 4,
   "metadata": {
    "collapsed": false
   },
   "outputs": [
    {
     "name": "stdout",
     "output_type": "stream",
     "text": [
      "[nltk_data] Downloading package stopwords to /home/hamd/nltk_data...\n",
      "[nltk_data]   Package stopwords is already up-to-date!\n",
      "[nltk_data] Downloading package wordnet to /home/hamd/nltk_data...\n",
      "[nltk_data]   Package wordnet is already up-to-date!\n"
     ]
    }
   ],
   "source": [
    "from Helper import *\n",
    "helper = Helper()\n",
    "\n",
    "r_df['processed_text'] = r_df['review_text'].apply(lambda x: helper.preprocess_text(x))\n",
    "processed_df = r_df[['processed_text', 'rate', 'title']]"
   ]
  },
  {
   "cell_type": "code",
   "execution_count": 5,
   "metadata": {
    "collapsed": false,
    "scrolled": true
   },
   "outputs": [
    {
     "data": {
      "text/html": [
       "<div>\n",
       "<style>\n",
       "    .dataframe thead tr:only-child th {\n",
       "        text-align: right;\n",
       "    }\n",
       "\n",
       "    .dataframe thead th {\n",
       "        text-align: left;\n",
       "    }\n",
       "\n",
       "    .dataframe tbody tr th {\n",
       "        vertical-align: top;\n",
       "    }\n",
       "</style>\n",
       "<table border=\"1\" class=\"dataframe\">\n",
       "  <thead>\n",
       "    <tr style=\"text-align: right;\">\n",
       "      <th></th>\n",
       "      <th>page</th>\n",
       "      <th>page-href</th>\n",
       "      <th>title</th>\n",
       "      <th>review_text</th>\n",
       "      <th>stars</th>\n",
       "      <th>rate</th>\n",
       "      <th>processed_text</th>\n",
       "    </tr>\n",
       "  </thead>\n",
       "  <tbody>\n",
       "    <tr>\n",
       "      <th>0</th>\n",
       "      <td>68</td>\n",
       "      <td>https://www.trustpilot.com/review/www.rebtel.c...</td>\n",
       "      <td>Brilliant service</td>\n",
       "      <td>I find this system easy to use and a way to co...</td>\n",
       "      <td>star-rating count-4 size-medium clearfix</td>\n",
       "      <td>4</td>\n",
       "      <td>find system easy use way communicate family</td>\n",
       "    </tr>\n",
       "    <tr>\n",
       "      <th>1</th>\n",
       "      <td>19</td>\n",
       "      <td>https://www.trustpilot.com/review/www.rebtel.c...</td>\n",
       "      <td>Not efficient customer care support</td>\n",
       "      <td>I have been using Rebtel for calling India no ...</td>\n",
       "      <td>star-rating count-2 size-medium clearfix</td>\n",
       "      <td>2</td>\n",
       "      <td>using rebtel calling india doubt call quality ...</td>\n",
       "    </tr>\n",
       "    <tr>\n",
       "      <th>2</th>\n",
       "      <td>90</td>\n",
       "      <td>https://www.trustpilot.com/review/www.rebtel.c...</td>\n",
       "      <td>awesome</td>\n",
       "      <td>I recently change my international calls from ...</td>\n",
       "      <td>star-rating count-5 size-medium clearfix</td>\n",
       "      <td>5</td>\n",
       "      <td>recently change international call union telec...</td>\n",
       "    </tr>\n",
       "    <tr>\n",
       "      <th>3</th>\n",
       "      <td>115</td>\n",
       "      <td>https://www.trustpilot.com/review/www.rebtel.c...</td>\n",
       "      <td>excellent</td>\n",
       "      <td>a huge savings for me in long distance calls</td>\n",
       "      <td>star-rating count-5 size-medium clearfix</td>\n",
       "      <td>5</td>\n",
       "      <td>huge saving long distance call</td>\n",
       "    </tr>\n",
       "    <tr>\n",
       "      <th>4</th>\n",
       "      <td>110</td>\n",
       "      <td>https://www.trustpilot.com/review/www.rebtel.c...</td>\n",
       "      <td>Awesome!</td>\n",
       "      <td>Great service with no hidden charges. Please q...</td>\n",
       "      <td>star-rating count-5 size-medium clearfix</td>\n",
       "      <td>5</td>\n",
       "      <td>great service hidden charge please qualify nig...</td>\n",
       "    </tr>\n",
       "  </tbody>\n",
       "</table>\n",
       "</div>"
      ],
      "text/plain": [
       "   page                                          page-href  \\\n",
       "0    68  https://www.trustpilot.com/review/www.rebtel.c...   \n",
       "1    19  https://www.trustpilot.com/review/www.rebtel.c...   \n",
       "2    90  https://www.trustpilot.com/review/www.rebtel.c...   \n",
       "3   115  https://www.trustpilot.com/review/www.rebtel.c...   \n",
       "4   110  https://www.trustpilot.com/review/www.rebtel.c...   \n",
       "\n",
       "                                 title  \\\n",
       "0                    Brilliant service   \n",
       "1  Not efficient customer care support   \n",
       "2                              awesome   \n",
       "3                            excellent   \n",
       "4                             Awesome!   \n",
       "\n",
       "                                         review_text  \\\n",
       "0  I find this system easy to use and a way to co...   \n",
       "1  I have been using Rebtel for calling India no ...   \n",
       "2  I recently change my international calls from ...   \n",
       "3       a huge savings for me in long distance calls   \n",
       "4  Great service with no hidden charges. Please q...   \n",
       "\n",
       "                                      stars  rate  \\\n",
       "0  star-rating count-4 size-medium clearfix     4   \n",
       "1  star-rating count-2 size-medium clearfix     2   \n",
       "2  star-rating count-5 size-medium clearfix     5   \n",
       "3  star-rating count-5 size-medium clearfix     5   \n",
       "4  star-rating count-5 size-medium clearfix     5   \n",
       "\n",
       "                                      processed_text  \n",
       "0        find system easy use way communicate family  \n",
       "1  using rebtel calling india doubt call quality ...  \n",
       "2  recently change international call union telec...  \n",
       "3                     huge saving long distance call  \n",
       "4  great service hidden charge please qualify nig...  "
      ]
     },
     "execution_count": 5,
     "metadata": {},
     "output_type": "execute_result"
    }
   ],
   "source": [
    "r_df.head()"
   ]
  },
  {
   "cell_type": "code",
   "execution_count": 6,
   "metadata": {
    "collapsed": false
   },
   "outputs": [
    {
     "data": {
      "text/plain": [
       "<matplotlib.axes._subplots.AxesSubplot at 0x7fc384cf96d8>"
      ]
     },
     "execution_count": 6,
     "metadata": {},
     "output_type": "execute_result"
    },
    {
     "data": {
      "image/png": "[encoded data removed]",
      "text/plain": [
       "<matplotlib.figure.Figure at 0x7fc386e3a438>"
      ]
     },
     "metadata": {},
     "output_type": "display_data"
    }
   ],
   "source": [
    "import seaborn as sns\n",
    "import matplotlib.pyplot as plt\n",
    "%matplotlib inline\n",
    "\n",
    "plt.figure(figsize=(8, 6))\n",
    "plt.style.use('fivethirtyeight')\n",
    "\n",
    "sns.countplot(x='rate', data=r_df)"
   ]
  },
  {
   "cell_type": "markdown",
   "metadata": {},
   "source": [
    "### Reducing to a binary classification\n",
    "For now I have considered rate 3 as neutral and hence had it removed.\n",
    "\n",
    "(I have checked this that if I do not remove rate 3, it will be the most missclassified class)"
   ]
  },
  {
   "cell_type": "code",
   "execution_count": 7,
   "metadata": {
    "collapsed": false
   },
   "outputs": [],
   "source": [
    "processed_df = processed_df[processed_df['rate'] != 3]\n",
    "processed_df['pos'] = processed_df['rate'].apply(lambda x: 1 if x > 3 else 0)"
   ]
  },
  {
   "cell_type": "markdown",
   "metadata": {},
   "source": [
    "### Spliting train and test"
   ]
  },
  {
   "cell_type": "code",
   "execution_count": 51,
   "metadata": {
    "collapsed": true
   },
   "outputs": [],
   "source": [
    "X = processed_df['processed_text'].values\n",
    "y = processed_df['pos']\n",
    "\n",
    "from sklearn.model_selection import train_test_split\n",
    "\n",
    "X_train, X_test, y_train, y_test = train_test_split(X, y, test_size=0.3, random_state=0)"
   ]
  },
  {
   "cell_type": "markdown",
   "metadata": {},
   "source": [
    "What is the baseline for this problem?"
   ]
  },
  {
   "cell_type": "code",
   "execution_count": 9,
   "metadata": {
    "collapsed": false
   },
   "outputs": [
    {
     "name": "stdout",
     "output_type": "stream",
     "text": [
      "Baseline:  0.749826268242\n"
     ]
    }
   ],
   "source": [
    "print ('Baseline: ', sum(y_train)/len(y_train))"
   ]
  },
  {
   "cell_type": "markdown",
   "metadata": {},
   "source": [
    "Most of the reviews are positive. "
   ]
  },
  {
   "cell_type": "markdown",
   "metadata": {},
   "source": [
    "# 2. Classification\n",
    "\n",
    "In the following three main approaches are considered:\n",
    "<ol>\n",
    "<li> Grid search over hyper parameters of linear classifiers.</li>\n",
    "<li> Classification over word2vec embedding. </li>\n",
    "<li> Using rating as a regression target, and then classifying input based on predicted ratings. </li>\n",
    "</ol>"
   ]
  },
  {
   "cell_type": "markdown",
   "metadata": {},
   "source": [
    "## 2.1 Grid Search over Hyper-parameters"
   ]
  },
  {
   "cell_type": "code",
   "execution_count": 65,
   "metadata": {
    "collapsed": true
   },
   "outputs": [],
   "source": [
    "from pprint import pprint\n",
    "from time import time\n",
    "import logging\n",
    "\n",
    "from sklearn.feature_extraction.text import CountVectorizer, TfidfTransformer\n",
    "from sklearn.linear_model import SGDClassifier\n",
    "from sklearn.model_selection import GridSearchCV\n",
    "from sklearn.pipeline import Pipeline\n",
    "from sklearn.metrics import confusion_matrix, accuracy_score,classification_report\n",
    "\n",
    "def perform_grid_search(model, param_grid, X, y):\n",
    "    grid_search = GridSearchCV(model, param_grid, n_jobs=-1, verbose=1, cv=5, scoring='f1')\n",
    "    t0 = time()\n",
    "    grid_search.fit(X, y)\n",
    "    print(\"done in %0.3fs\" % (time() - t0))\n",
    "    return grid_search\n",
    "\n",
    "def eval_grid(grid_res, param_grid, X, y):\n",
    "    print ('Baseline: ', str(sum(y)/len(y)))\n",
    "    print(\"Best score: %0.3f\" % grid_res.best_score_)\n",
    "    print(\"Best parameters set:\")\n",
    "    best_parameters = grid_res.best_estimator_.get_params()\n",
    "    for param_name in sorted(param_grid.keys()):\n",
    "        print(\"\\t%s: %r\" % (param_name, best_parameters[param_name]))\n",
    "    \n",
    "    print ()\n",
    "    y_pred = grid_res.predict(X=X)\n",
    "    print ('Confusion Matrix:')\n",
    "    print (confusion_matrix(y, y_pred))\n",
    "    print (accuracy_score(y, y_pred))\n",
    "    print (classification_report(y, y_pred))\n",
    "    "
   ]
  },
  {
   "cell_type": "markdown",
   "metadata": {},
   "source": [
    "### Without downsampling"
   ]
  },
  {
   "cell_type": "markdown",
   "metadata": {},
   "source": [
    "Performing a grid search over hyperparameters"
   ]
  },
  {
   "cell_type": "code",
   "execution_count": 61,
   "metadata": {
    "collapsed": true
   },
   "outputs": [],
   "source": [
    "pipeline = Pipeline([\n",
    "    ('cvect', CountVectorizer()),\n",
    "    ('tfidf', TfidfTransformer()),\n",
    "    ('clf', SGDClassifier()),\n",
    "])\n",
    "\n",
    "param_grid = {\n",
    "    'cvect__max_df': (0.5, 0.75, 1.0),\n",
    "    #'cvect__max_features': (None, 5000, 10000, 50000),\n",
    "    'cvect__ngram_range': ((1, 1), (1, 2)),  # unigrams or bigrams\n",
    "    'tfidf__use_idf': (True, False),\n",
    "    'clf__loss': ('hinge', 'modified_huber', 'log'),\n",
    "    'clf__alpha': (0.00001, 0.000001),\n",
    "    'clf__penalty': ('l2', 'elasticnet'),\n",
    "    'clf__class_weight': (None, 'balanced'), \n",
    "#     'clf__n_iter': (100, 500, 1000)\n",
    "}"
   ]
  },
  {
   "cell_type": "code",
   "execution_count": 64,
   "metadata": {
    "collapsed": false
   },
   "outputs": [
    {
     "name": "stdout",
     "output_type": "stream",
     "text": [
      "Fitting 5 folds for each of 288 candidates, totalling 1440 fits\n"
     ]
    },
    {
     "name": "stderr",
     "output_type": "stream",
     "text": [
      "[Parallel(n_jobs=-1)]: Done  76 tasks      | elapsed:    7.0s\n",
      "[Parallel(n_jobs=-1)]: Done 376 tasks      | elapsed:   31.7s\n",
      "[Parallel(n_jobs=-1)]: Done 876 tasks      | elapsed:  1.2min\n",
      "[Parallel(n_jobs=-1)]: Done 1440 out of 1440 | elapsed:  2.0min finished\n"
     ]
    },
    {
     "name": "stdout",
     "output_type": "stream",
     "text": [
      "done in 118.450s\n"
     ]
    }
   ],
   "source": [
    "res_gs = perform_grid_search(pipeline, param_grid, X_train, y_train)"
   ]
  },
  {
   "cell_type": "code",
   "execution_count": 66,
   "metadata": {
    "collapsed": false
   },
   "outputs": [
    {
     "name": "stdout",
     "output_type": "stream",
     "text": [
      "Baseline:  0.736245954693\n",
      "Best score: 0.945\n",
      "Best parameters set:\n",
      "\tclf__alpha: 1e-05\n",
      "\tclf__class_weight: None\n",
      "\tclf__loss: 'log'\n",
      "\tclf__penalty: 'elasticnet'\n",
      "\tcvect__max_df: 0.75\n",
      "\tcvect__ngram_range: (1, 2)\n",
      "\ttfidf__use_idf: True\n",
      "\n",
      "Confusion Matrix:\n",
      "[[134  29]\n",
      " [ 20 435]]\n",
      "0.92071197411\n",
      "             precision    recall  f1-score   support\n",
      "\n",
      "          0       0.87      0.82      0.85       163\n",
      "          1       0.94      0.96      0.95       455\n",
      "\n",
      "avg / total       0.92      0.92      0.92       618\n",
      "\n"
     ]
    }
   ],
   "source": [
    "eval_grid(res_gs, param_grid, X_test, y_test)"
   ]
  },
  {
   "cell_type": "code",
   "execution_count": 67,
   "metadata": {
    "collapsed": false
   },
   "outputs": [
    {
     "data": {
      "image/png": "[encoded data removed]",
      "text/plain": [
       "<matplotlib.figure.Figure at 0x7fc37da75780>"
      ]
     },
     "metadata": {},
     "output_type": "display_data"
    }
   ],
   "source": [
    "from sklearn.metrics import roc_curve, auc\n",
    "\n",
    "prob_vec = res_gs.predict_proba(X_test)\n",
    "\n",
    "\n",
    "fpr, tpr, thresholds = roc_curve(y_test, prob_vec[:, 1])\n",
    "roc_auc = auc(fpr, tpr)\n",
    "\n",
    "plt.figure(figsize=(8,6))\n",
    "lw = 2\n",
    "plt.plot(fpr, tpr, color='darkorange',\n",
    "         lw=lw, label='ROC curve (area = %0.2f)' % roc_auc)\n",
    "plt.plot([0, 1], [0, 1], color='navy', lw=lw, linestyle='--')\n",
    "plt.xlim([0.0, 1.0])\n",
    "plt.ylim([0.0, 1.0])\n",
    "plt.xlabel('True Negative Rate')\n",
    "plt.ylabel('True Positive Rate')\n",
    "plt.legend(loc=\"lower right\")\n",
    "plt.show()"
   ]
  },
  {
   "cell_type": "markdown",
   "metadata": {},
   "source": [
    "### Downsampling the larger class"
   ]
  },
  {
   "cell_type": "markdown",
   "metadata": {},
   "source": [
    "Here I try to downsample the bigger class (positives), and then train the classifier on the balanced dataset. \n",
    "However, I am going to test it with the unbalanced dataset."
   ]
  },
  {
   "cell_type": "code",
   "execution_count": 20,
   "metadata": {
    "collapsed": false
   },
   "outputs": [],
   "source": [
    "neg_indices = processed_df[processed_df['pos'] == 0].index\n",
    "pos_indices = processed_df[processed_df['pos'] == 1].index[0:len(neg_indices)]\n",
    "\n",
    "downsampled_df = processed_df.loc[neg_indices.tolist() + pos_indices.tolist()]\n",
    "\n",
    "X_ds = downsampled_df['processed_text'].values\n",
    "y_ds = downsampled_df['pos']\n",
    "\n",
    "X_ds_train, X_ds_test, y_ds_train, y_ds_test = train_test_split(X_ds, y_ds, test_size=0.3, random_state=0)"
   ]
  },
  {
   "cell_type": "code",
   "execution_count": 21,
   "metadata": {
    "collapsed": false
   },
   "outputs": [
    {
     "name": "stdout",
     "output_type": "stream",
     "text": [
      "0.5\n"
     ]
    }
   ],
   "source": [
    "print (sum(downsampled_df['pos'].values)/len(downsampled_df))"
   ]
  },
  {
   "cell_type": "code",
   "execution_count": 22,
   "metadata": {
    "collapsed": false
   },
   "outputs": [
    {
     "name": "stdout",
     "output_type": "stream",
     "text": [
      "Fitting 5 folds for each of 288 candidates, totalling 1440 fits\n"
     ]
    },
    {
     "name": "stderr",
     "output_type": "stream",
     "text": [
      "[Parallel(n_jobs=-1)]: Done  76 tasks      | elapsed:    3.3s\n",
      "[Parallel(n_jobs=-1)]: Done 376 tasks      | elapsed:   16.3s\n",
      "[Parallel(n_jobs=-1)]: Done 876 tasks      | elapsed:   37.4s\n"
     ]
    },
    {
     "name": "stdout",
     "output_type": "stream",
     "text": [
      "done in 61.852s\n"
     ]
    },
    {
     "name": "stderr",
     "output_type": "stream",
     "text": [
      "[Parallel(n_jobs=-1)]: Done 1440 out of 1440 | elapsed:  1.0min finished\n"
     ]
    }
   ],
   "source": [
    "res_ds_gs = perform_grid_search(pipeline, param_grid, X_ds_train, y_ds_train)"
   ]
  },
  {
   "cell_type": "code",
   "execution_count": 23,
   "metadata": {
    "collapsed": false
   },
   "outputs": [
    {
     "name": "stdout",
     "output_type": "stream",
     "text": [
      "Baseline:  0.736245954693\n",
      "Best score: 0.912\n",
      "Best parameters set:\n",
      "\tclf__alpha: 1e-05\n",
      "\tclf__class_weight: None\n",
      "\tclf__loss: 'log'\n",
      "\tclf__penalty: 'elasticnet'\n",
      "\tcvect__max_df: 0.75\n",
      "\tcvect__ngram_range: (1, 2)\n",
      "\ttfidf__use_idf: True\n",
      "\n",
      "Confusion Matrix:\n",
      "[[133  30]\n",
      " [ 19 436]]\n",
      "0.92071197411\n",
      "             precision    recall  f1-score   support\n",
      "\n",
      "          0       0.88      0.82      0.84       163\n",
      "          1       0.94      0.96      0.95       455\n",
      "\n",
      "avg / total       0.92      0.92      0.92       618\n",
      "\n"
     ]
    }
   ],
   "source": [
    "eval_grid(res_gs, param_grid, X_test, y_test)"
   ]
  },
  {
   "cell_type": "markdown",
   "metadata": {},
   "source": [
    "## 2.2 Using word2vec"
   ]
  },
  {
   "cell_type": "code",
   "execution_count": 10,
   "metadata": {
    "collapsed": true
   },
   "outputs": [],
   "source": [
    "from w2vecModel import *\n",
    "w2v_model = Word2vecModel()"
   ]
  },
  {
   "cell_type": "code",
   "execution_count": 11,
   "metadata": {
    "collapsed": true
   },
   "outputs": [],
   "source": [
    "processed_df['text_list'] = processed_df['processed_text'].apply(lambda x: x.split())\n",
    "processed_df['title_list'] = processed_df['title'].apply(lambda x: x.split())"
   ]
  },
  {
   "cell_type": "markdown",
   "metadata": {},
   "source": [
    "### Using an already trained model for word embeding"
   ]
  },
  {
   "cell_type": "markdown",
   "metadata": {},
   "source": [
    "Download the GloVe already trained model from here: http://nlp.stanford.edu/data/glove.6B.zip"
   ]
  },
  {
   "cell_type": "code",
   "execution_count": 21,
   "metadata": {
    "collapsed": false
   },
   "outputs": [],
   "source": [
    "w2v_model.initialize('data/glove.6B/glove.6B.100d.txt')"
   ]
  },
  {
   "cell_type": "code",
   "execution_count": 32,
   "metadata": {
    "collapsed": false
   },
   "outputs": [
    {
     "name": "stdout",
     "output_type": "stream",
     "text": [
      "Obtaining the tfidf embeddings...\n",
      "DIM:  100\n",
      "<class 'dict'>\n"
     ]
    }
   ],
   "source": [
    "X_w2v = w2v_model.transform(processed_df['text_list'], embedding='tfidf').tolist()\n",
    "y = processed_df['pos']\n",
    "\n",
    "X_w2v_train, X_w2v_test, y_train, y_test = train_test_split(X_w2v, y, test_size=0.3, random_state=0)"
   ]
  },
  {
   "cell_type": "markdown",
   "metadata": {},
   "source": [
    "### Hyper parameter search"
   ]
  },
  {
   "cell_type": "code",
   "execution_count": 35,
   "metadata": {
    "collapsed": false
   },
   "outputs": [
    {
     "name": "stdout",
     "output_type": "stream",
     "text": [
      "Fitting 5 folds for each of 24 candidates, totalling 120 fits\n"
     ]
    },
    {
     "name": "stderr",
     "output_type": "stream",
     "text": [
      "[Parallel(n_jobs=-1)]: Done  42 tasks      | elapsed:  2.0min\n",
      "[Parallel(n_jobs=-1)]: Done 120 out of 120 | elapsed:  5.9min finished\n"
     ]
    },
    {
     "name": "stdout",
     "output_type": "stream",
     "text": [
      "done in 362.760s\n"
     ]
    }
   ],
   "source": [
    "sgd_parameters = {\n",
    "    'loss': ('hinge', 'modified_huber', 'log'),\n",
    "    'alpha': (0.00001, 0.000001),\n",
    "    'penalty': ('l2', 'elasticnet'),\n",
    "    'class_weight': (None, 'balanced')\n",
    "}\n",
    "\n",
    "res_w2v_gs = perform_grid_search(SGDClassifier(n_iter=1000), sgd_parameters, X_w2v_train, y_train)"
   ]
  },
  {
   "cell_type": "code",
   "execution_count": 36,
   "metadata": {
    "collapsed": false
   },
   "outputs": [
    {
     "name": "stdout",
     "output_type": "stream",
     "text": [
      "Baseline:  0.736245954693\n",
      "Best score: 0.839\n",
      "Best parameters set:\n",
      "\talpha: 1e-06\n",
      "\tclass_weight: None\n",
      "\tloss: 'modified_huber'\n",
      "\tpenalty: 'elasticnet'\n",
      "\n",
      "Confusion Matrix:\n",
      "[[102  61]\n",
      " [ 30 425]]\n",
      "0.852750809061\n",
      "             precision    recall  f1-score   support\n",
      "\n",
      "          0       0.77      0.63      0.69       163\n",
      "          1       0.87      0.93      0.90       455\n",
      "\n",
      "avg / total       0.85      0.85      0.85       618\n",
      "\n"
     ]
    }
   ],
   "source": [
    "eval_grid(res_w2v_gs, sgd_parameters, X_w2v_test, y_test)"
   ]
  },
  {
   "cell_type": "markdown",
   "metadata": {},
   "source": [
    "### Using only titles instead of the full review text\n",
    "\n",
    "This section does not improve anything. You can pass this safely! "
   ]
  },
  {
   "cell_type": "code",
   "execution_count": 33,
   "metadata": {
    "collapsed": false
   },
   "outputs": [
    {
     "name": "stdout",
     "output_type": "stream",
     "text": [
      "Obtaining the mean embeddings...\n",
      "DIM:  100\n"
     ]
    }
   ],
   "source": [
    "X_w2v_t = w2v_model.transform(processed_df['title_list']).tolist()\n",
    "X_w2v_t_train, X_w2v_t_test, y_train, y_test = train_test_split(X_w2v_t, y, test_size=0.3, random_state=0)"
   ]
  },
  {
   "cell_type": "code",
   "execution_count": 36,
   "metadata": {
    "collapsed": false
   },
   "outputs": [
    {
     "name": "stdout",
     "output_type": "stream",
     "text": [
      "Fitting 5 folds for each of 24 candidates, totalling 120 fits\n",
      "done in 2.957s\n"
     ]
    },
    {
     "name": "stderr",
     "output_type": "stream",
     "text": [
      "[Parallel(n_jobs=-1)]: Done 120 out of 120 | elapsed:    2.7s finished\n"
     ]
    }
   ],
   "source": [
    "res_w2v_t_gs = perform_grid_search(SGDClassifier(), sgd_parameters, X_w2v_t_train, y_train)"
   ]
  },
  {
   "cell_type": "code",
   "execution_count": 39,
   "metadata": {
    "collapsed": false
   },
   "outputs": [
    {
     "name": "stdout",
     "output_type": "stream",
     "text": [
      "Baseline:  0.736245954693\n",
      "Best score: 0.780\n",
      "Best parameters set:\n",
      "\talpha: 1e-06\n",
      "\tclass_weight: None\n",
      "\tloss: 'modified_huber'\n",
      "\tpenalty: 'elasticnet'\n",
      "\n",
      "Confusion Matrix:\n",
      "[[ 91  72]\n",
      " [147 308]]\n",
      "0.645631067961\n",
      "             precision    recall  f1-score   support\n",
      "\n",
      "          0       0.38      0.56      0.45       163\n",
      "          1       0.81      0.68      0.74       455\n",
      "\n",
      "avg / total       0.70      0.65      0.66       618\n",
      "\n"
     ]
    }
   ],
   "source": [
    "eval_grid(res_w2v_t_gs, sgd_parameters, X_w2v_t_test, y_test)"
   ]
  },
  {
   "cell_type": "markdown",
   "metadata": {},
   "source": [
    "#### Very bad performance (no suprise though)"
   ]
  },
  {
   "cell_type": "markdown",
   "metadata": {},
   "source": [
    "## 2.3 Use regression for rating as a classifier"
   ]
  },
  {
   "cell_type": "code",
   "execution_count": 37,
   "metadata": {
    "collapsed": false
   },
   "outputs": [],
   "source": [
    "from sklearn.linear_model import ElasticNetCV\n",
    "from sklearn.feature_extraction.text import CountVectorizer, TfidfTransformer\n",
    "from sklearn.pipeline import Pipeline\n",
    "import numpy as np\n",
    "\n",
    "\n",
    "def train_elastic_net(X, y):\n",
    "    enet_pipeline = Pipeline([\n",
    "        ('cvect', CountVectorizer()),\n",
    "        ('tfidf', TfidfTransformer()),\n",
    "        ('reg', ElasticNetCV(cv=5, l1_ratio=np.arange(0.1, 1.1, .1), random_state=0, verbose=1, n_jobs=-1))\n",
    "    ])\n",
    "\n",
    "    # reg_enet = ElasticNetCV(cv=5, l1_ratio=np.arange(0, 1.1, .1), random_state=0)\n",
    "    # reg_enet.fit(X_train, y_r_train)\n",
    "\n",
    "    enet_pipeline.fit(X, y)\n",
    "    return enet_pipeline\n",
    "\n",
    "from sklearn.metrics import mean_squared_error, r2_score\n",
    "\n",
    "def eval_regression(reg_model, X, y_true, removed_neutral=False):\n",
    "    y_pred = reg_model.predict(X)\n",
    "    \n",
    "    print ('MSE: ', mean_squared_error(y_true, y_pred))\n",
    "    print ('R2: ', r2_score(y_true, y_pred))\n",
    "    \n",
    "    print()\n",
    "    print ('Binarized results:')\n",
    "    print ('(Considering all ratings above 3 as positive, and the rest as negative,\\n \\\n",
    "            and prediction above 2.5 as positive, and the rest as negative.)')\n",
    "    y_true_b =[1 if x > 3 else 0 for x in y_true]\n",
    "    y_pred_b = [1 if x > 2.5 else 0 for x in y_pred]\n",
    "\n",
    "    print ('Baseline: ', str(sum(y_true_b)/len(y_true_b)))\n",
    "    print ('Confusion Matrix:')\n",
    "    print (confusion_matrix(y_true_b, y_pred_b))\n",
    "    print ('Acc:')\n",
    "    print (accuracy_score(y_true_b, y_pred_b))\n",
    "    print (classification_report(y_true_b, y_pred_b))\n",
    "    \n",
    "    print ()\n",
    "    print ('Considering each rating as a class: ')\n",
    "    if not removed_neutral:\n",
    "        y_pred_m = [5 if x > 5 else 1 if x < 1 else int(np.round(x)) for x in y_pred]\n",
    "    else:\n",
    "        y_pred_m = []\n",
    "        for y in y_pred:\n",
    "            if y < 1:\n",
    "                v = 1\n",
    "            elif y > 5:\n",
    "                v = 5\n",
    "            elif y > 2 and y < 3:\n",
    "                v = 2\n",
    "            elif y >= 3 and y < 4:\n",
    "                v = 4\n",
    "            else:\n",
    "                v = int(np.round(y))\n",
    "            y_pred_m.append(v)\n",
    "\n",
    "    print ('Confusion Matrix:')\n",
    "    print (confusion_matrix(y_true, y_pred_m))\n",
    "    print (classification_report(y_r_test, y_pred_m))\n",
    "    "
   ]
  },
  {
   "cell_type": "markdown",
   "metadata": {},
   "source": [
    "### Not excluding neutral ratings (3)"
   ]
  },
  {
   "cell_type": "markdown",
   "metadata": {},
   "source": [
    "Using the original dataframe in which 3 ratings are not removed."
   ]
  },
  {
   "cell_type": "code",
   "execution_count": 38,
   "metadata": {
    "collapsed": false
   },
   "outputs": [],
   "source": [
    "X_train, X_test, y_r_train, y_r_test = helper.train_test_split(r_df, 'processed_text', 'rate')"
   ]
  },
  {
   "cell_type": "code",
   "execution_count": 39,
   "metadata": {
    "collapsed": false
   },
   "outputs": [
    {
     "name": "stderr",
     "output_type": "stream",
     "text": [
      "...............................................................................................................................................................................................................................................................................................................................................................................................................................................................................................................................................................................................................................................................................................................................................................................................................................................................................................................................................................................................................................................................................................................................................................................................................................................................................................................................................................................................................................................................................................................................................................................................................................................................................................................................................................................................................................................................................................................................................................................................................................................................................................................................................................................................................................................................................................................................................................................................................................................................................................................................................................................................................................................................................................................................................................................................................................................................................................................................................................................................................................................................................................................................................................................................................................................................................................................................................................................................................................................................................................................................................................................................................................................................................................................................................................................................................................................................................................................................................................................................................................................................................................................................................................................................................................................................................................................................................................................................................................................................................................................................................................................................................[Parallel(n_jobs=-1)]: Done  42 tasks      | elapsed:  3.5min\n",
      ".........................................................................................................................................................................................................................................................................................................................................................................................................................................................................................................................................................................................[Parallel(n_jobs=-1)]: Done  50 out of  50 | elapsed:  6.0min finished\n"
     ]
    }
   ],
   "source": [
    "e_net = train_elastic_net(X_train, y_r_train)"
   ]
  },
  {
   "cell_type": "code",
   "execution_count": 44,
   "metadata": {
    "collapsed": false
   },
   "outputs": [
    {
     "name": "stdout",
     "output_type": "stream",
     "text": [
      "MSE:  1.05686776655\n",
      "R2:  0.523683674027\n",
      "\n",
      "Binarized results:\n",
      "(Considering all ratings above 3 as positive, and the rest as negative,\n",
      "             and prediction above 2.5 as positive, and the rest as negative.)\n",
      "Baseline:  0.6574746008708273\n",
      "Confusion Matrix:\n",
      "[[ 93 143]\n",
      " [  4 449]]\n",
      "Acc:\n",
      "0.786647314949\n",
      "             precision    recall  f1-score   support\n",
      "\n",
      "          0       0.96      0.39      0.56       236\n",
      "          1       0.76      0.99      0.86       453\n",
      "\n",
      "avg / total       0.83      0.79      0.76       689\n",
      "\n",
      "\n",
      "Considering each rating as a class: \n",
      "Confusion Matrix:\n",
      "[[ 21  46  36  12   0]\n",
      " [  3  11  24   4   0]\n",
      " [  0  12  31  31   5]\n",
      " [  0   1  28  83  35]\n",
      " [  0   3  29 150 124]]\n",
      "             precision    recall  f1-score   support\n",
      "\n",
      "          1       0.88      0.18      0.30       115\n",
      "          2       0.15      0.26      0.19        42\n",
      "          3       0.21      0.39      0.27        79\n",
      "          4       0.30      0.56      0.39       147\n",
      "          5       0.76      0.41      0.53       306\n",
      "\n",
      "avg / total       0.58      0.39      0.41       689\n",
      "\n"
     ]
    }
   ],
   "source": [
    "eval_regression(e_net, X_test, y_r_test)"
   ]
  },
  {
   "cell_type": "markdown",
   "metadata": {},
   "source": [
    "### Exclusion of neutral ratings (3)"
   ]
  },
  {
   "cell_type": "markdown",
   "metadata": {},
   "source": [
    "Using the dataframe in which 3 ratings are already removed."
   ]
  },
  {
   "cell_type": "code",
   "execution_count": 45,
   "metadata": {
    "collapsed": true
   },
   "outputs": [],
   "source": [
    "X_train, X_test, y_r_train, y_r_test = helper.train_test_split(processed_df, 'processed_text', 'rate')"
   ]
  },
  {
   "cell_type": "code",
   "execution_count": 46,
   "metadata": {
    "collapsed": false
   },
   "outputs": [
    {
     "name": "stderr",
     "output_type": "stream",
     "text": [
      "..........................................................................................................................................................................................................................................................................................................................................................................................................................................................................................................................................................................................................................................................................................................................................................................................................................................................................................................................................................................................................................................................................................................................................................................................................................................................................................................................................................................................................................................................................................................................................................................................................................................................................................................................................................................................................................................................................................................................................................................................................................................................................................................................................................................................................................................................................................................................................................................................................................................................................................................................................................................................................................................................................................................................................................................................................................................................................................................................................................................................................................................................................................................................................................................................................................................................................................................................................................................................................................................................................................................................................................................................................................................................................................................................................................................................................................................................................................................................................................................................................................................................................................................................................................................................................................................................................................................................................................................................................................................................................................................................................................................................................................................[Parallel(n_jobs=-1)]: Done  42 tasks      | elapsed:  2.6min\n",
      "..............................................................................................................................................................................................................................................................................................................................................................................................................................................................................................................................................................[Parallel(n_jobs=-1)]: Done  50 out of  50 | elapsed:  4.4min finished\n"
     ]
    }
   ],
   "source": [
    "e_net_3_removed = train_elastic_net(X_train, y_r_train)"
   ]
  },
  {
   "cell_type": "code",
   "execution_count": 47,
   "metadata": {
    "collapsed": false
   },
   "outputs": [
    {
     "name": "stdout",
     "output_type": "stream",
     "text": [
      "MSE:  1.05943967222\n",
      "R2:  0.581547208588\n",
      "\n",
      "Binarized results:\n",
      "(Considering all ratings above 3 as positive, and the rest as negative,\n",
      "             and prediction above 2.5 as positive, and the rest as negative.)\n",
      "Baseline:  0.7362459546925566\n",
      "Confusion Matrix:\n",
      "[[ 81  82]\n",
      " [  4 451]]\n",
      "Acc:\n",
      "0.860841423948\n",
      "             precision    recall  f1-score   support\n",
      "\n",
      "          0       0.95      0.50      0.65       163\n",
      "          1       0.85      0.99      0.91       455\n",
      "\n",
      "avg / total       0.87      0.86      0.84       618\n",
      "\n",
      "\n",
      "Considering each rating as a class: \n",
      "Confusion Matrix:\n",
      "[[ 31  68  25   0]\n",
      " [  1  24  13   1]\n",
      " [  1  12  75  47]\n",
      " [  0   9 149 162]]\n",
      "             precision    recall  f1-score   support\n",
      "\n",
      "          1       0.94      0.25      0.39       124\n",
      "          2       0.21      0.62      0.32        39\n",
      "          4       0.29      0.56      0.38       135\n",
      "          5       0.77      0.51      0.61       320\n",
      "\n",
      "avg / total       0.66      0.47      0.50       618\n",
      "\n"
     ]
    }
   ],
   "source": [
    "eval_regression(e_net_3_removed, X_test, y_r_test, removed_neutral=True)"
   ]
  },
  {
   "cell_type": "markdown",
   "metadata": {},
   "source": [
    "### Calibration of probabilities coming from regression\n",
    "\n",
    "A well calibrated (binary) classifier should classify the samples such that among the samples for which it predicted probability close to 0.8, approximately 80% actually belong to the that class."
   ]
  },
  {
   "cell_type": "markdown",
   "metadata": {},
   "source": [
    "### Regressor classifier"
   ]
  },
  {
   "cell_type": "markdown",
   "metadata": {},
   "source": [
    "This class inherits from the BaseEstimator, and uses the given regression model to fit a calssifier. \n",
    "\n",
    "For now any predicted rating above 2.5 is considered positive, and the rest are negative. \n",
    "\n",
    "I will used this class to create a calssifier with calibrated probability output."
   ]
  },
  {
   "cell_type": "code",
   "execution_count": 47,
   "metadata": {
    "collapsed": false
   },
   "outputs": [],
   "source": [
    "from sklearn.base import BaseEstimator, ClassifierMixin\n",
    "import numpy as np\n",
    "\n",
    "class RegressionClassifier(BaseEstimator, ClassifierMixin):\n",
    "    '''This a wraper class around a given regression predicting rating of a given text'''\n",
    "    def __init__(self, regressor):\n",
    "        self.regressor = regressor\n",
    "        self.classes_ = [0, 1]\n",
    "        \n",
    "    def fit(self, X, y):\n",
    "        self.regressor.fit(X, y)\n",
    "        \n",
    "    def predict(self, X):\n",
    "        return [1 if x > 2.5 else 0 for x in self.regressor.predict(X)]\n",
    "    \n",
    "    # returns predicted rating. \n",
    "    def decision_function(self, X):\n",
    "        return self.regressor.predict(X)\n",
    "    \n",
    "    # More the rating more the probability of being positive\n",
    "    def predict_proba(self, X):\n",
    "        prob_pos = self.regressor.predict(X)\n",
    "        prob_pos = (prob_pos - prob_pos.min()) / (prob_pos.max() - prob_pos.min())\n",
    "        return np.array([[1 - x, x] for x in prob_pos])"
   ]
  },
  {
   "cell_type": "markdown",
   "metadata": {},
   "source": [
    "### Plotting the calibrated curves\n",
    "\n",
    "In the plot below a well calibrated classifier should be close to the line y = x."
   ]
  },
  {
   "cell_type": "code",
   "execution_count": 40,
   "metadata": {
    "collapsed": false
   },
   "outputs": [],
   "source": [
    "from sklearn.metrics import brier_score_loss, precision_score, recall_score, f1_score\n",
    "from sklearn.calibration import CalibratedClassifierCV, calibration_curve\n",
    "\n",
    "# this function is mostly taken from sklearn website\n",
    "def plot_calibration_curve(est, name, fig_index, X, y):\n",
    "    \n",
    "    X_train, X_test, y_train, y_test = train_test_split(X.toarray(), y, test_size=.3, random_state=0)\n",
    "    y_test =[1 if x > 3 else 0 for x in y_test]\n",
    "    y_train_b = [1 if x > 3 else 0 for x in y_train]\n",
    "    \n",
    "    est.fit(X_train, y_train)\n",
    "    \n",
    "    # Calibrated with isotonic calibration\n",
    "    isotonic = CalibratedClassifierCV(est, cv='prefit', method='isotonic')\n",
    "    isotonic.fit(X_train, y_train_b)\n",
    "\n",
    "    # Calibrated with sigmoid calibration\n",
    "    sigmoid = CalibratedClassifierCV(est, cv='prefit', method='sigmoid')\n",
    "    sigmoid.fit(X_train, y_train_b)\n",
    "    \n",
    "    fig = plt.figure(fig_index, figsize=(10, 10))\n",
    "    ax1 = plt.subplot2grid((3, 1), (0, 0), rowspan=2)\n",
    "    ax2 = plt.subplot2grid((3, 1), (2, 0))\n",
    "\n",
    "    ax1.plot([0, 1], [0, 1], \"k:\", label=\"Perfectly calibrated\")\n",
    "    for clf, name in [(est, name),\n",
    "                      (isotonic, name + ' + Isotonic'),\n",
    "                      (sigmoid, name + ' + Sigmoid')]:\n",
    "        y_pred = clf.predict(X_test)\n",
    "        if hasattr(clf, \"predict_proba\"):\n",
    "            prob_pos = clf.predict_proba(X_test)[:, 1]\n",
    "        else:  # use decision function\n",
    "            prob_pos = clf.decision_function(X_test)\n",
    "            prob_pos = \\\n",
    "                (prob_pos - prob_pos.min()) / (prob_pos.max() - prob_pos.min())\n",
    "\n",
    "        clf_score = brier_score_loss(y_test, prob_pos, pos_label=y.max())\n",
    "        print(\"%s:\" % name)\n",
    "        print(\"\\tBrier: %1.3f\" % (clf_score))\n",
    "        print(\"\\tPrecision: %1.3f\" % precision_score(y_test, y_pred))\n",
    "        print(\"\\tRecall: %1.3f\" % recall_score(y_test, y_pred))\n",
    "        print(\"\\tF1: %1.3f\\n\" % f1_score(y_test, y_pred))\n",
    "\n",
    "        fraction_of_positives, mean_predicted_value = \\\n",
    "            calibration_curve(y_test, prob_pos, n_bins=10)\n",
    "\n",
    "        ax1.plot(mean_predicted_value, fraction_of_positives, \"s-\",\n",
    "                 label=\"%s\" % (name))\n",
    "\n",
    "        ax2.hist(prob_pos, range=(0, 1), bins=10, label=name,\n",
    "                 histtype=\"step\", lw=2)\n",
    "\n",
    "    ax1.set_ylabel(\"Fraction of positives\")\n",
    "    ax1.set_ylim([-0.05, 1.05])\n",
    "    ax1.legend(loc=\"lower right\")\n",
    "    ax1.set_title('Calibration plots  (reliability curve)')\n",
    "    ax1.patch.set_facecolor('None')\n",
    "\n",
    "    ax2.set_xlabel(\"Mean predicted value\")\n",
    "    ax2.set_ylabel(\"Count\")\n",
    "    ax2.legend(loc=\"upper center\", ncol=2)\n",
    "    ax2.patch.set_facecolor('None')\n",
    "    \n",
    "    plt.tight_layout()\n"
   ]
  },
  {
   "cell_type": "code",
   "execution_count": 48,
   "metadata": {
    "collapsed": false,
    "scrolled": false
   },
   "outputs": [
    {
     "name": "stderr",
     "output_type": "stream",
     "text": [
      ".......................................................................................................................................................................................................................................................................................................................................................................................................................................................................................................................................................................................................................................................................................................................................................................................................................................................................................................................................................................................................................................................................................................................................................................................................................................................................................................................................................................................................................................................................................................................................................................................................................................................................................................................................................................................................................................................................................................................................................................................................................................................................................................................................................................................................................................................................................................................................................................................................................................................................................................................................................................................................................................................................................................................................................................................................................................................................................................................................................................................................................................................................................................................................................................................................................................................................................................................................................................................................................................................................................................................................................................................................................................................................................................................................................................................................................................................................................................................................................................................................................................................................................................................................................................................................................................................................................................................................................................................................................................................................................................................................................................................................................................[Parallel(n_jobs=-1)]: Done  42 tasks      | elapsed:  5.0min\n",
      ".................................................................................................................................................................................................................................................................................................................................................................................................................................................................................................................................................................[Parallel(n_jobs=-1)]: Done  50 out of  50 | elapsed:  7.4min finished\n"
     ]
    },
    {
     "name": "stdout",
     "output_type": "stream",
     "text": [
      "ElasticNet:\n",
      "\tBrier: 0.396\n",
      "\tPrecision: 0.838\n",
      "\tRecall: 0.991\n",
      "\tF1: 0.908\n",
      "\n",
      "ElasticNet + Isotonic:\n",
      "\tBrier: 0.736\n",
      "\tPrecision: 0.923\n",
      "\tRecall: 0.949\n",
      "\tF1: 0.936\n",
      "\n",
      "ElasticNet + Sigmoid:\n",
      "\tBrier: 0.727\n",
      "\tPrecision: 0.916\n",
      "\tRecall: 0.954\n",
      "\tF1: 0.934\n",
      "\n"
     ]
    },
    {
     "data": {
      "image/png": "[encoded data removed]",
      "text/plain": [
       "<matplotlib.figure.Figure at 0x7fc37c04a0f0>"
      ]
     },
     "metadata": {},
     "output_type": "display_data"
    }
   ],
   "source": [
    "tfidf_pipeline = Pipeline([\n",
    "    ('cvect', CountVectorizer()),\n",
    "    ('tfidf', TfidfTransformer()),\n",
    "])\n",
    "\n",
    "X = tfidf_pipeline.fit_transform(processed_df['processed_text'].values)\n",
    "y = processed_df['rate']\n",
    "elastic_net = ElasticNetCV(cv=5, l1_ratio=np.arange(0.1, 1.1, .1), n_alphas=100,  random_state=0, verbose=1, n_jobs=-1)\n",
    "plot_calibration_curve(RegressionClassifier(elastic_net), \"ElasticNet\", 1, X, y)"
   ]
  },
  {
   "cell_type": "markdown",
   "metadata": {},
   "source": [
    "### Trying the calibrated model"
   ]
  },
  {
   "cell_type": "code",
   "execution_count": 52,
   "metadata": {
    "collapsed": false,
    "scrolled": false
   },
   "outputs": [
    {
     "name": "stderr",
     "output_type": "stream",
     "text": [
      "..................................................................................................................................................................................................................................................................................................................................................................................................................................................................................................................................................................................................................................................................................................................................................................................................................................................................................................................................................................................................................................................................................................................................................................................................................................................................................................................................................................................................................................................................................................................................................................................................................................................................................................................................................................................................................................................................................................................................................................................................................................................................................................................................................................................................................................................................................................................................................................................................................................................................................................................................................................................................................................................................................................................................................................................................................................................................................................................................................................................................................................................................................................................................................................................................................................................................................................................................................................................................................................................................................................................................................................................................................................................................................................................................................................................................................................................................................................................................................................................................................................................................................................................................................................................................................................................................................................................................................................................................................................................................................................................................................................................................................[Parallel(n_jobs=-1)]: Done  42 tasks      | elapsed:  5.2min\n",
      "......................................................................................................................................................................................................................................................................................................................................................................................................................................................................................................................................................................................[Parallel(n_jobs=-1)]: Done  50 out of  50 | elapsed:  7.6min finished\n"
     ]
    }
   ],
   "source": [
    "def log_classification_report(y_true, y_pred):\n",
    "    print ('Baseline: ', str(sum(y_true)/len(y_true)))\n",
    "    print ('Confusion Matrix:')\n",
    "    print (confusion_matrix(y_true, y_pred))\n",
    "    print ('Acc:')\n",
    "    print (accuracy_score(y_true, y_pred))\n",
    "    print (classification_report(y_true, y_pred))\n",
    "\n",
    "X_train, X_test, y_train, y_test = train_test_split(X.toarray(), y, test_size=.3, random_state=0)\n",
    "\n",
    "y_test_b =[1 if x > 3 else 0 for x in y_test]\n",
    "y_train_b = [1 if x > 3 else 0 for x in y_train]\n",
    "\n",
    "enet = ElasticNetCV(cv=5, l1_ratio=np.arange(0.1, 1.1, .1), random_state=0, verbose=1, n_jobs=-1)\n",
    "enet_reg = RegressionClassifier(enet)\n",
    "\n",
    "enet_reg.fit(X_train, y_train)\n",
    "\n"
   ]
  },
  {
   "cell_type": "code",
   "execution_count": 53,
   "metadata": {
    "collapsed": false
   },
   "outputs": [
    {
     "name": "stdout",
     "output_type": "stream",
     "text": [
      "Naive threshod regression results:\n",
      "Sigmoid results:\n",
      "Baseline:  0.7362459546925566\n",
      "Confusion Matrix:\n",
      "[[ 76  87]\n",
      " [  4 451]]\n",
      "Acc:\n",
      "0.852750809061\n",
      "             precision    recall  f1-score   support\n",
      "\n",
      "          0       0.95      0.47      0.63       163\n",
      "          1       0.84      0.99      0.91       455\n",
      "\n",
      "avg / total       0.87      0.85      0.83       618\n",
      "\n",
      "\n",
      "Sigmoid calibration results:\n",
      "Sigmoid results:\n",
      "Baseline:  0.7362459546925566\n",
      "Confusion Matrix:\n",
      "[[123  40]\n",
      " [ 21 434]]\n",
      "Acc:\n",
      "0.901294498382\n",
      "             precision    recall  f1-score   support\n",
      "\n",
      "          0       0.85      0.75      0.80       163\n",
      "          1       0.92      0.95      0.93       455\n",
      "\n",
      "avg / total       0.90      0.90      0.90       618\n",
      "\n",
      "\n",
      "Isotonic calibration results:\n",
      "Sigmoid results:\n",
      "Baseline:  0.7362459546925566\n",
      "Confusion Matrix:\n",
      "[[123  40]\n",
      " [ 21 434]]\n",
      "Acc:\n",
      "0.901294498382\n",
      "             precision    recall  f1-score   support\n",
      "\n",
      "          0       0.85      0.75      0.80       163\n",
      "          1       0.92      0.95      0.93       455\n",
      "\n",
      "avg / total       0.90      0.90      0.90       618\n",
      "\n"
     ]
    }
   ],
   "source": [
    "y_pred = enet_reg.predict(X_test)\n",
    "print ('Naive threshod regression results:')\n",
    "log_classification_report(y_test_b, y_pred)\n",
    "\n",
    "sigmoid = CalibratedClassifierCV(enet_reg, cv='prefit', method='sigmoid')\n",
    "sigmoid.fit(X_train, y_train_b)\n",
    "y_pred = sigmoid.predict(X_test)\n",
    "print ()\n",
    "print ('Sigmoid calibration results:')\n",
    "log_classification_report(y_test_b, y_pred)\n",
    "\n",
    "isotonic = CalibratedClassifierCV(enet_reg, cv='prefit', method='isotonic')\n",
    "isotonic.fit(X_train, y_train_b)\n",
    "y_pred = sigmoid.predict(X_test)\n",
    "print ()\n",
    "print ('Isotonic calibration results:')\n",
    "log_classification_report(y_test_b, y_pred)"
   ]
  },
  {
   "cell_type": "markdown",
   "metadata": {},
   "source": [
    "The results are imporoved comparing with previouse naive threshold regression method. However, still it is not bitting the first tried method (grid search over linear classifiers)."
   ]
  },
  {
   "cell_type": "code",
   "execution_count": null,
   "metadata": {
    "collapsed": true
   },
   "outputs": [],
   "source": []
  }
 ],
 "metadata": {
  "anaconda-cloud": {},
  "kernelspec": {
   "display_name": "Python 3",
   "language": "python",
   "name": "python3"
  },
  "language_info": {
   "codemirror_mode": {
    "name": "ipython",
    "version": 3
   },
   "file_extension": ".py",
   "mimetype": "text/x-python",
   "name": "python",
   "nbconvert_exporter": "python",
   "pygments_lexer": "ipython3",
   "version": "3.5.2"
  }
 },
 "nbformat": 4,
 "nbformat_minor": 1
}
